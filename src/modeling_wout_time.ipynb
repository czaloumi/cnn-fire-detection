{
 "cells": [
  {
   "cell_type": "code",
   "execution_count": 2,
   "metadata": {
    "colab": {},
    "colab_type": "code",
    "id": "7QY0DzAo0MOi"
   },
   "outputs": [],
   "source": [
    "# Imports\n",
    "#from pydrive.auth import GoogleAuth\n",
    "#from pydrive.drive import GoogleDrive\n",
    "#from google.colab import auth\n",
    "#from oauth2client.client import GoogleCredentials\n",
    "\n",
    "import pandas as pd\n",
    "import numpy as np\n",
    "import matplotlib.pyplot as plt\n",
    "plt.style.use('seaborn-whitegrid')\n",
    "from sklearn.model_selection import train_test_split, cross_validate, KFold\n",
    "from sklearn.neighbors import KNeighborsClassifier\n",
    "from sklearn.ensemble import RandomForestClassifier\n",
    "from xgboost import XGBClassifier\n",
    "from sklearn.metrics import roc_curve, auc,  precision_score, recall_score, accuracy_score, f1_score\n",
    "from sklearn.metrics import confusion_matrix\n",
    "from xgboost import plot_importance\n",
    "from sklearn.metrics import plot_confusion_matrix"
   ]
  },
  {
   "cell_type": "markdown",
   "metadata": {},
   "source": [
    "# Google Colab Auth - only needed for colab"
   ]
  },
  {
   "cell_type": "code",
   "execution_count": 2,
   "metadata": {
    "colab": {},
    "colab_type": "code",
    "id": "d0du4DYv0a8Q"
   },
   "outputs": [],
   "source": [
    "'''\n",
    "auth.authenticate_user()\n",
    "gauth = GoogleAuth()\n",
    "gauth.credentials = GoogleCredentials.get_application_default()\n",
    "drive = GoogleDrive(gauth)\n",
    "'''"
   ]
  },
  {
   "cell_type": "code",
   "execution_count": 3,
   "metadata": {
    "colab": {},
    "colab_type": "code",
    "id": "QDOKlGSu0baa"
   },
   "outputs": [],
   "source": [
    "#df = drive.CreateFile({'id': '1GeNGKsWNsDR2jS5V5kMADGxBMZz3jH8K'})\n",
    "#df.GetContentFile('notime_df.csv')"
   ]
  },
  {
   "cell_type": "markdown",
   "metadata": {},
   "source": [
    "# If working in regular jupyter notebook"
   ]
  },
  {
   "cell_type": "code",
   "execution_count": 38,
   "metadata": {
    "colab": {},
    "colab_type": "code",
    "id": "jqZ_GK6J0qK-"
   },
   "outputs": [],
   "source": [
    "df = pd.read_csv('../data/no_time.csv')"
   ]
  },
  {
   "cell_type": "code",
   "execution_count": 39,
   "metadata": {
    "colab": {
     "base_uri": "https://localhost:8080/",
     "height": 34
    },
    "colab_type": "code",
    "id": "UPS0_ATE40jG",
    "outputId": "2bcad332-fb13-43ce-b12f-a930f933f7fb"
   },
   "outputs": [
    {
     "name": "stdout",
     "output_type": "stream",
     "text": [
      "Dataset has 127193 entries and 16 features\n"
     ]
    }
   ],
   "source": [
    "print(\"Dataset has {} entries and {} features\".format(*df.shape))"
   ]
  },
  {
   "cell_type": "code",
   "execution_count": 32,
   "metadata": {},
   "outputs": [
    {
     "data": {
      "text/plain": [
       "Stn Id                  0\n",
       "ETo (in)                0\n",
       "Precip (in)             0\n",
       "Sol Rad (Ly/day)        0\n",
       "Avg Vap Pres (mBars)    0\n",
       "Max Air Temp (F)        0\n",
       "Min Air Temp (F)        0\n",
       "Avg Air Temp (F)        0\n",
       "Max Rel Hum (%)         0\n",
       "Min Rel Hum (%)         0\n",
       "Avg Rel Hum (%)         0\n",
       "Dew Point (F)           0\n",
       "Avg Wind Speed (mph)    0\n",
       "Wind Run (miles)        0\n",
       "Avg Soil Temp (F)       0\n",
       "Target                  0\n",
       "dtype: int64"
      ]
     },
     "execution_count": 32,
     "metadata": {},
     "output_type": "execute_result"
    }
   ],
   "source": [
    "# Check for NaN values\n",
    "df.isna().sum()"
   ]
  },
  {
   "cell_type": "code",
   "execution_count": 33,
   "metadata": {},
   "outputs": [
    {
     "data": {
      "text/html": [
       "<div>\n",
       "<style scoped>\n",
       "    .dataframe tbody tr th:only-of-type {\n",
       "        vertical-align: middle;\n",
       "    }\n",
       "\n",
       "    .dataframe tbody tr th {\n",
       "        vertical-align: top;\n",
       "    }\n",
       "\n",
       "    .dataframe thead th {\n",
       "        text-align: right;\n",
       "    }\n",
       "</style>\n",
       "<table border=\"1\" class=\"dataframe\">\n",
       "  <thead>\n",
       "    <tr style=\"text-align: right;\">\n",
       "      <th></th>\n",
       "      <th>Stn Id</th>\n",
       "      <th>ETo (in)</th>\n",
       "      <th>Precip (in)</th>\n",
       "      <th>Sol Rad (Ly/day)</th>\n",
       "      <th>Avg Vap Pres (mBars)</th>\n",
       "      <th>Max Air Temp (F)</th>\n",
       "      <th>Min Air Temp (F)</th>\n",
       "      <th>Avg Air Temp (F)</th>\n",
       "      <th>Max Rel Hum (%)</th>\n",
       "      <th>Min Rel Hum (%)</th>\n",
       "      <th>Avg Rel Hum (%)</th>\n",
       "      <th>Dew Point (F)</th>\n",
       "      <th>Avg Wind Speed (mph)</th>\n",
       "      <th>Wind Run (miles)</th>\n",
       "      <th>Avg Soil Temp (F)</th>\n",
       "      <th>Target</th>\n",
       "    </tr>\n",
       "  </thead>\n",
       "  <tbody>\n",
       "    <tr>\n",
       "      <th>0</th>\n",
       "      <td>2</td>\n",
       "      <td>0.06</td>\n",
       "      <td>0.00</td>\n",
       "      <td>219.0</td>\n",
       "      <td>7.3</td>\n",
       "      <td>63.4</td>\n",
       "      <td>35.3</td>\n",
       "      <td>47.8</td>\n",
       "      <td>82.0</td>\n",
       "      <td>46.0</td>\n",
       "      <td>65.0</td>\n",
       "      <td>36.6</td>\n",
       "      <td>3.3</td>\n",
       "      <td>78.3</td>\n",
       "      <td>51.1</td>\n",
       "      <td>0</td>\n",
       "    </tr>\n",
       "    <tr>\n",
       "      <th>1</th>\n",
       "      <td>2</td>\n",
       "      <td>0.04</td>\n",
       "      <td>0.00</td>\n",
       "      <td>127.0</td>\n",
       "      <td>7.4</td>\n",
       "      <td>59.8</td>\n",
       "      <td>37.7</td>\n",
       "      <td>47.2</td>\n",
       "      <td>80.0</td>\n",
       "      <td>52.0</td>\n",
       "      <td>67.0</td>\n",
       "      <td>36.7</td>\n",
       "      <td>3.1</td>\n",
       "      <td>74.5</td>\n",
       "      <td>51.3</td>\n",
       "      <td>0</td>\n",
       "    </tr>\n",
       "    <tr>\n",
       "      <th>2</th>\n",
       "      <td>2</td>\n",
       "      <td>0.04</td>\n",
       "      <td>0.00</td>\n",
       "      <td>125.0</td>\n",
       "      <td>8.4</td>\n",
       "      <td>61.1</td>\n",
       "      <td>37.3</td>\n",
       "      <td>49.9</td>\n",
       "      <td>79.0</td>\n",
       "      <td>49.0</td>\n",
       "      <td>68.0</td>\n",
       "      <td>39.9</td>\n",
       "      <td>4.5</td>\n",
       "      <td>107.5</td>\n",
       "      <td>51.3</td>\n",
       "      <td>0</td>\n",
       "    </tr>\n",
       "    <tr>\n",
       "      <th>3</th>\n",
       "      <td>2</td>\n",
       "      <td>0.07</td>\n",
       "      <td>0.01</td>\n",
       "      <td>219.0</td>\n",
       "      <td>11.6</td>\n",
       "      <td>69.2</td>\n",
       "      <td>48.7</td>\n",
       "      <td>56.8</td>\n",
       "      <td>94.0</td>\n",
       "      <td>52.0</td>\n",
       "      <td>74.0</td>\n",
       "      <td>48.5</td>\n",
       "      <td>5.8</td>\n",
       "      <td>140.2</td>\n",
       "      <td>53.0</td>\n",
       "      <td>0</td>\n",
       "    </tr>\n",
       "    <tr>\n",
       "      <th>4</th>\n",
       "      <td>2</td>\n",
       "      <td>0.07</td>\n",
       "      <td>0.00</td>\n",
       "      <td>239.0</td>\n",
       "      <td>12.7</td>\n",
       "      <td>73.8</td>\n",
       "      <td>47.5</td>\n",
       "      <td>59.8</td>\n",
       "      <td>94.0</td>\n",
       "      <td>49.0</td>\n",
       "      <td>72.0</td>\n",
       "      <td>50.8</td>\n",
       "      <td>4.2</td>\n",
       "      <td>101.4</td>\n",
       "      <td>54.4</td>\n",
       "      <td>0</td>\n",
       "    </tr>\n",
       "    <tr>\n",
       "      <th>...</th>\n",
       "      <td>...</td>\n",
       "      <td>...</td>\n",
       "      <td>...</td>\n",
       "      <td>...</td>\n",
       "      <td>...</td>\n",
       "      <td>...</td>\n",
       "      <td>...</td>\n",
       "      <td>...</td>\n",
       "      <td>...</td>\n",
       "      <td>...</td>\n",
       "      <td>...</td>\n",
       "      <td>...</td>\n",
       "      <td>...</td>\n",
       "      <td>...</td>\n",
       "      <td>...</td>\n",
       "      <td>...</td>\n",
       "    </tr>\n",
       "    <tr>\n",
       "      <th>127188</th>\n",
       "      <td>262</td>\n",
       "      <td>0.11</td>\n",
       "      <td>0.00</td>\n",
       "      <td>306.0</td>\n",
       "      <td>14.0</td>\n",
       "      <td>82.5</td>\n",
       "      <td>53.2</td>\n",
       "      <td>64.9</td>\n",
       "      <td>95.0</td>\n",
       "      <td>33.0</td>\n",
       "      <td>67.0</td>\n",
       "      <td>53.6</td>\n",
       "      <td>2.6</td>\n",
       "      <td>63.1</td>\n",
       "      <td>70.6</td>\n",
       "      <td>1</td>\n",
       "    </tr>\n",
       "    <tr>\n",
       "      <th>127189</th>\n",
       "      <td>262</td>\n",
       "      <td>0.07</td>\n",
       "      <td>0.00</td>\n",
       "      <td>245.0</td>\n",
       "      <td>15.4</td>\n",
       "      <td>77.1</td>\n",
       "      <td>52.4</td>\n",
       "      <td>63.5</td>\n",
       "      <td>96.0</td>\n",
       "      <td>52.0</td>\n",
       "      <td>77.0</td>\n",
       "      <td>56.2</td>\n",
       "      <td>2.3</td>\n",
       "      <td>54.8</td>\n",
       "      <td>69.7</td>\n",
       "      <td>1</td>\n",
       "    </tr>\n",
       "    <tr>\n",
       "      <th>127190</th>\n",
       "      <td>262</td>\n",
       "      <td>0.13</td>\n",
       "      <td>0.00</td>\n",
       "      <td>412.0</td>\n",
       "      <td>15.8</td>\n",
       "      <td>85.1</td>\n",
       "      <td>50.6</td>\n",
       "      <td>65.4</td>\n",
       "      <td>97.0</td>\n",
       "      <td>39.0</td>\n",
       "      <td>74.0</td>\n",
       "      <td>56.9</td>\n",
       "      <td>2.1</td>\n",
       "      <td>49.8</td>\n",
       "      <td>69.4</td>\n",
       "      <td>1</td>\n",
       "    </tr>\n",
       "    <tr>\n",
       "      <th>127191</th>\n",
       "      <td>262</td>\n",
       "      <td>0.10</td>\n",
       "      <td>0.00</td>\n",
       "      <td>338.0</td>\n",
       "      <td>16.7</td>\n",
       "      <td>83.2</td>\n",
       "      <td>50.6</td>\n",
       "      <td>65.0</td>\n",
       "      <td>97.0</td>\n",
       "      <td>46.0</td>\n",
       "      <td>79.0</td>\n",
       "      <td>58.4</td>\n",
       "      <td>1.6</td>\n",
       "      <td>38.8</td>\n",
       "      <td>69.2</td>\n",
       "      <td>1</td>\n",
       "    </tr>\n",
       "    <tr>\n",
       "      <th>127192</th>\n",
       "      <td>262</td>\n",
       "      <td>0.13</td>\n",
       "      <td>0.00</td>\n",
       "      <td>388.0</td>\n",
       "      <td>15.7</td>\n",
       "      <td>86.2</td>\n",
       "      <td>51.7</td>\n",
       "      <td>66.5</td>\n",
       "      <td>97.0</td>\n",
       "      <td>38.0</td>\n",
       "      <td>71.0</td>\n",
       "      <td>56.7</td>\n",
       "      <td>2.4</td>\n",
       "      <td>58.6</td>\n",
       "      <td>70.3</td>\n",
       "      <td>1</td>\n",
       "    </tr>\n",
       "  </tbody>\n",
       "</table>\n",
       "<p>127193 rows × 16 columns</p>\n",
       "</div>"
      ],
      "text/plain": [
       "        Stn Id  ETo (in)  Precip (in)  Sol Rad (Ly/day)  Avg Vap Pres (mBars)  \\\n",
       "0            2      0.06         0.00             219.0                   7.3   \n",
       "1            2      0.04         0.00             127.0                   7.4   \n",
       "2            2      0.04         0.00             125.0                   8.4   \n",
       "3            2      0.07         0.01             219.0                  11.6   \n",
       "4            2      0.07         0.00             239.0                  12.7   \n",
       "...        ...       ...          ...               ...                   ...   \n",
       "127188     262      0.11         0.00             306.0                  14.0   \n",
       "127189     262      0.07         0.00             245.0                  15.4   \n",
       "127190     262      0.13         0.00             412.0                  15.8   \n",
       "127191     262      0.10         0.00             338.0                  16.7   \n",
       "127192     262      0.13         0.00             388.0                  15.7   \n",
       "\n",
       "        Max Air Temp (F)  Min Air Temp (F)  Avg Air Temp (F)  Max Rel Hum (%)  \\\n",
       "0                   63.4              35.3              47.8             82.0   \n",
       "1                   59.8              37.7              47.2             80.0   \n",
       "2                   61.1              37.3              49.9             79.0   \n",
       "3                   69.2              48.7              56.8             94.0   \n",
       "4                   73.8              47.5              59.8             94.0   \n",
       "...                  ...               ...               ...              ...   \n",
       "127188              82.5              53.2              64.9             95.0   \n",
       "127189              77.1              52.4              63.5             96.0   \n",
       "127190              85.1              50.6              65.4             97.0   \n",
       "127191              83.2              50.6              65.0             97.0   \n",
       "127192              86.2              51.7              66.5             97.0   \n",
       "\n",
       "        Min Rel Hum (%)  Avg Rel Hum (%)  Dew Point (F)  Avg Wind Speed (mph)  \\\n",
       "0                  46.0             65.0           36.6                   3.3   \n",
       "1                  52.0             67.0           36.7                   3.1   \n",
       "2                  49.0             68.0           39.9                   4.5   \n",
       "3                  52.0             74.0           48.5                   5.8   \n",
       "4                  49.0             72.0           50.8                   4.2   \n",
       "...                 ...              ...            ...                   ...   \n",
       "127188             33.0             67.0           53.6                   2.6   \n",
       "127189             52.0             77.0           56.2                   2.3   \n",
       "127190             39.0             74.0           56.9                   2.1   \n",
       "127191             46.0             79.0           58.4                   1.6   \n",
       "127192             38.0             71.0           56.7                   2.4   \n",
       "\n",
       "        Wind Run (miles)  Avg Soil Temp (F)  Target  \n",
       "0                   78.3               51.1       0  \n",
       "1                   74.5               51.3       0  \n",
       "2                  107.5               51.3       0  \n",
       "3                  140.2               53.0       0  \n",
       "4                  101.4               54.4       0  \n",
       "...                  ...                ...     ...  \n",
       "127188              63.1               70.6       1  \n",
       "127189              54.8               69.7       1  \n",
       "127190              49.8               69.4       1  \n",
       "127191              38.8               69.2       1  \n",
       "127192              58.6               70.3       1  \n",
       "\n",
       "[127193 rows x 16 columns]"
      ]
     },
     "execution_count": 33,
     "metadata": {},
     "output_type": "execute_result"
    }
   ],
   "source": [
    "df"
   ]
  },
  {
   "cell_type": "code",
   "execution_count": null,
   "metadata": {},
   "outputs": [],
   "source": []
  },
  {
   "cell_type": "markdown",
   "metadata": {},
   "source": [
    "# Initial model comparisons\n",
    "\n",
    "Note: classes remain imbalanced"
   ]
  },
  {
   "cell_type": "code",
   "execution_count": 40,
   "metadata": {
    "colab": {},
    "colab_type": "code",
    "id": "8QF3mE8F4DV6"
   },
   "outputs": [],
   "source": [
    "class Fire(object):\n",
    "    def __init__(self, df):\n",
    "        self.y = df.pop('Target')\n",
    "        self.X = df\n",
    "\n",
    "    def split(self):\n",
    "        self.X_train, self.X_test, self.y_train, self.y_test = train_test_split(self.X, self.y, test_size=0.2, stratify=self.y)\n",
    "\n",
    "    def predict(self, model):\n",
    "        self.model = model\n",
    "        kf = KFold(n_splits=5)\n",
    "        \n",
    "        accuracy = []\n",
    "        precision = []\n",
    "        recall = []\n",
    "        f1 = []\n",
    "\n",
    "        for train_index, test_index in kf.split(self.X_train):\n",
    "            X_train_split, X_test_split = self.X_train.iloc[train_index], self.X_train.iloc[test_index]\n",
    "            y_train_split, y_test_split = self.y_train.iloc[train_index], self.y_train.iloc[test_index]\n",
    "            self.model.fit(X_train_split, y_train_split, verbose=True)\n",
    "            self.pred = self.model.predict(X_test_split)\n",
    "\n",
    "            assess = lambda method, val=y_test_split, pred=self.pred: method(val, pred)\n",
    "\n",
    "            accuracy.append(assess(accuracy_score))\n",
    "            precision.append(assess(precision_score))\n",
    "            recall.append(assess(recall_score))\n",
    "            f1.append(assess(f1_score))\n",
    "        \n",
    "        return np.mean(accuracy), np.mean(precision), np.mean(recall), np.mean(f1)\n",
    "      \n",
    "    def get_rates(self):\n",
    "        self.proba = self.model.predict_proba(self.X_test)\n",
    "        self.proba = self.proba[:,1]\n",
    "        self.fpr, self.tpr, self.thresholds = roc_curve(self.y_test, self.proba)\n",
    "        self.auc = auc(self.fpr, self.tpr)\n",
    "\n",
    "        return self.fpr, self.tpr, self.auc\n",
    "\n",
    "    def cm(self):\n",
    "        return plot_confusion_matrix(self.model, self.X_test, self.y_test, cmap=plt.cm.Purples , normalize='true')\n",
    "    \n",
    "    def plot_roc(self, ax, model):\n",
    "        if model == 'knn':\n",
    "          ax.plot(self.fpr, self.tpr, color='orange', label=f'{model}: {self.auc}')\n",
    "          return ax\n",
    "        elif model == 'forest':\n",
    "          ax.plot(self.fpr, self.tpr, color='green', label=f'{model}: {self.auc}')\n",
    "          return ax\n",
    "        elif model == 'boost1':\n",
    "          ax.plot(self.fpr, self.tpr, color='red', label=f'{model}: {self.auc}')\n",
    "          return ax\n",
    "        else:\n",
    "          ax.plot(self.fpr, self.tpr, color='purple', label=f'{model}: {self.auc}')\n",
    "          return ax\n",
    "\n",
    "    def plot_importance(self):\n",
    "        return plot_importance(self.model, max_num_features=15)"
   ]
  },
  {
   "cell_type": "code",
   "execution_count": 41,
   "metadata": {
    "colab": {
     "base_uri": "https://localhost:8080/",
     "height": 975
    },
    "colab_type": "code",
    "id": "tpjy0OfX6N7f",
    "outputId": "2d4d2311-8501-4186-d8c8-26bfd32e68bf"
   },
   "outputs": [
    {
     "ename": "FileNotFoundError",
     "evalue": "[Errno 2] File notime_df.csv does not exist: 'notime_df.csv'",
     "output_type": "error",
     "traceback": [
      "\u001b[0;31m---------------------------------------------------------------------------\u001b[0m",
      "\u001b[0;31mFileNotFoundError\u001b[0m                         Traceback (most recent call last)",
      "\u001b[0;32m<ipython-input-41-11c88ef982ce>\u001b[0m in \u001b[0;36m<module>\u001b[0;34m\u001b[0m\n\u001b[1;32m     15\u001b[0m \u001b[0mplt\u001b[0m\u001b[0;34m.\u001b[0m\u001b[0mshow\u001b[0m\u001b[0;34m(\u001b[0m\u001b[0;34m)\u001b[0m\u001b[0;34m\u001b[0m\u001b[0;34m\u001b[0m\u001b[0m\n\u001b[1;32m     16\u001b[0m '''\n\u001b[0;32m---> 17\u001b[0;31m \u001b[0mdf\u001b[0m \u001b[0;34m=\u001b[0m \u001b[0mpd\u001b[0m\u001b[0;34m.\u001b[0m\u001b[0mread_csv\u001b[0m\u001b[0;34m(\u001b[0m\u001b[0;34m'notime_df.csv'\u001b[0m\u001b[0;34m)\u001b[0m\u001b[0;34m\u001b[0m\u001b[0;34m\u001b[0m\u001b[0m\n\u001b[0m\u001b[1;32m     18\u001b[0m \u001b[0;34m\u001b[0m\u001b[0m\n\u001b[1;32m     19\u001b[0m \u001b[0;31m# Random Forest\u001b[0m\u001b[0;34m\u001b[0m\u001b[0;34m\u001b[0m\u001b[0;34m\u001b[0m\u001b[0m\n",
      "\u001b[0;32m~/opt/anaconda3/lib/python3.8/site-packages/pandas/io/parsers.py\u001b[0m in \u001b[0;36mparser_f\u001b[0;34m(filepath_or_buffer, sep, delimiter, header, names, index_col, usecols, squeeze, prefix, mangle_dupe_cols, dtype, engine, converters, true_values, false_values, skipinitialspace, skiprows, skipfooter, nrows, na_values, keep_default_na, na_filter, verbose, skip_blank_lines, parse_dates, infer_datetime_format, keep_date_col, date_parser, dayfirst, cache_dates, iterator, chunksize, compression, thousands, decimal, lineterminator, quotechar, quoting, doublequote, escapechar, comment, encoding, dialect, error_bad_lines, warn_bad_lines, delim_whitespace, low_memory, memory_map, float_precision)\u001b[0m\n\u001b[1;32m    674\u001b[0m         )\n\u001b[1;32m    675\u001b[0m \u001b[0;34m\u001b[0m\u001b[0m\n\u001b[0;32m--> 676\u001b[0;31m         \u001b[0;32mreturn\u001b[0m \u001b[0m_read\u001b[0m\u001b[0;34m(\u001b[0m\u001b[0mfilepath_or_buffer\u001b[0m\u001b[0;34m,\u001b[0m \u001b[0mkwds\u001b[0m\u001b[0;34m)\u001b[0m\u001b[0;34m\u001b[0m\u001b[0;34m\u001b[0m\u001b[0m\n\u001b[0m\u001b[1;32m    677\u001b[0m \u001b[0;34m\u001b[0m\u001b[0m\n\u001b[1;32m    678\u001b[0m     \u001b[0mparser_f\u001b[0m\u001b[0;34m.\u001b[0m\u001b[0m__name__\u001b[0m \u001b[0;34m=\u001b[0m \u001b[0mname\u001b[0m\u001b[0;34m\u001b[0m\u001b[0;34m\u001b[0m\u001b[0m\n",
      "\u001b[0;32m~/opt/anaconda3/lib/python3.8/site-packages/pandas/io/parsers.py\u001b[0m in \u001b[0;36m_read\u001b[0;34m(filepath_or_buffer, kwds)\u001b[0m\n\u001b[1;32m    446\u001b[0m \u001b[0;34m\u001b[0m\u001b[0m\n\u001b[1;32m    447\u001b[0m     \u001b[0;31m# Create the parser.\u001b[0m\u001b[0;34m\u001b[0m\u001b[0;34m\u001b[0m\u001b[0;34m\u001b[0m\u001b[0m\n\u001b[0;32m--> 448\u001b[0;31m     \u001b[0mparser\u001b[0m \u001b[0;34m=\u001b[0m \u001b[0mTextFileReader\u001b[0m\u001b[0;34m(\u001b[0m\u001b[0mfp_or_buf\u001b[0m\u001b[0;34m,\u001b[0m \u001b[0;34m**\u001b[0m\u001b[0mkwds\u001b[0m\u001b[0;34m)\u001b[0m\u001b[0;34m\u001b[0m\u001b[0;34m\u001b[0m\u001b[0m\n\u001b[0m\u001b[1;32m    449\u001b[0m \u001b[0;34m\u001b[0m\u001b[0m\n\u001b[1;32m    450\u001b[0m     \u001b[0;32mif\u001b[0m \u001b[0mchunksize\u001b[0m \u001b[0;32mor\u001b[0m \u001b[0miterator\u001b[0m\u001b[0;34m:\u001b[0m\u001b[0;34m\u001b[0m\u001b[0;34m\u001b[0m\u001b[0m\n",
      "\u001b[0;32m~/opt/anaconda3/lib/python3.8/site-packages/pandas/io/parsers.py\u001b[0m in \u001b[0;36m__init__\u001b[0;34m(self, f, engine, **kwds)\u001b[0m\n\u001b[1;32m    878\u001b[0m             \u001b[0mself\u001b[0m\u001b[0;34m.\u001b[0m\u001b[0moptions\u001b[0m\u001b[0;34m[\u001b[0m\u001b[0;34m\"has_index_names\"\u001b[0m\u001b[0;34m]\u001b[0m \u001b[0;34m=\u001b[0m \u001b[0mkwds\u001b[0m\u001b[0;34m[\u001b[0m\u001b[0;34m\"has_index_names\"\u001b[0m\u001b[0;34m]\u001b[0m\u001b[0;34m\u001b[0m\u001b[0;34m\u001b[0m\u001b[0m\n\u001b[1;32m    879\u001b[0m \u001b[0;34m\u001b[0m\u001b[0m\n\u001b[0;32m--> 880\u001b[0;31m         \u001b[0mself\u001b[0m\u001b[0;34m.\u001b[0m\u001b[0m_make_engine\u001b[0m\u001b[0;34m(\u001b[0m\u001b[0mself\u001b[0m\u001b[0;34m.\u001b[0m\u001b[0mengine\u001b[0m\u001b[0;34m)\u001b[0m\u001b[0;34m\u001b[0m\u001b[0;34m\u001b[0m\u001b[0m\n\u001b[0m\u001b[1;32m    881\u001b[0m \u001b[0;34m\u001b[0m\u001b[0m\n\u001b[1;32m    882\u001b[0m     \u001b[0;32mdef\u001b[0m \u001b[0mclose\u001b[0m\u001b[0;34m(\u001b[0m\u001b[0mself\u001b[0m\u001b[0;34m)\u001b[0m\u001b[0;34m:\u001b[0m\u001b[0;34m\u001b[0m\u001b[0;34m\u001b[0m\u001b[0m\n",
      "\u001b[0;32m~/opt/anaconda3/lib/python3.8/site-packages/pandas/io/parsers.py\u001b[0m in \u001b[0;36m_make_engine\u001b[0;34m(self, engine)\u001b[0m\n\u001b[1;32m   1112\u001b[0m     \u001b[0;32mdef\u001b[0m \u001b[0m_make_engine\u001b[0m\u001b[0;34m(\u001b[0m\u001b[0mself\u001b[0m\u001b[0;34m,\u001b[0m \u001b[0mengine\u001b[0m\u001b[0;34m=\u001b[0m\u001b[0;34m\"c\"\u001b[0m\u001b[0;34m)\u001b[0m\u001b[0;34m:\u001b[0m\u001b[0;34m\u001b[0m\u001b[0;34m\u001b[0m\u001b[0m\n\u001b[1;32m   1113\u001b[0m         \u001b[0;32mif\u001b[0m \u001b[0mengine\u001b[0m \u001b[0;34m==\u001b[0m \u001b[0;34m\"c\"\u001b[0m\u001b[0;34m:\u001b[0m\u001b[0;34m\u001b[0m\u001b[0;34m\u001b[0m\u001b[0m\n\u001b[0;32m-> 1114\u001b[0;31m             \u001b[0mself\u001b[0m\u001b[0;34m.\u001b[0m\u001b[0m_engine\u001b[0m \u001b[0;34m=\u001b[0m \u001b[0mCParserWrapper\u001b[0m\u001b[0;34m(\u001b[0m\u001b[0mself\u001b[0m\u001b[0;34m.\u001b[0m\u001b[0mf\u001b[0m\u001b[0;34m,\u001b[0m \u001b[0;34m**\u001b[0m\u001b[0mself\u001b[0m\u001b[0;34m.\u001b[0m\u001b[0moptions\u001b[0m\u001b[0;34m)\u001b[0m\u001b[0;34m\u001b[0m\u001b[0;34m\u001b[0m\u001b[0m\n\u001b[0m\u001b[1;32m   1115\u001b[0m         \u001b[0;32melse\u001b[0m\u001b[0;34m:\u001b[0m\u001b[0;34m\u001b[0m\u001b[0;34m\u001b[0m\u001b[0m\n\u001b[1;32m   1116\u001b[0m             \u001b[0;32mif\u001b[0m \u001b[0mengine\u001b[0m \u001b[0;34m==\u001b[0m \u001b[0;34m\"python\"\u001b[0m\u001b[0;34m:\u001b[0m\u001b[0;34m\u001b[0m\u001b[0;34m\u001b[0m\u001b[0m\n",
      "\u001b[0;32m~/opt/anaconda3/lib/python3.8/site-packages/pandas/io/parsers.py\u001b[0m in \u001b[0;36m__init__\u001b[0;34m(self, src, **kwds)\u001b[0m\n\u001b[1;32m   1889\u001b[0m         \u001b[0mkwds\u001b[0m\u001b[0;34m[\u001b[0m\u001b[0;34m\"usecols\"\u001b[0m\u001b[0;34m]\u001b[0m \u001b[0;34m=\u001b[0m \u001b[0mself\u001b[0m\u001b[0;34m.\u001b[0m\u001b[0musecols\u001b[0m\u001b[0;34m\u001b[0m\u001b[0;34m\u001b[0m\u001b[0m\n\u001b[1;32m   1890\u001b[0m \u001b[0;34m\u001b[0m\u001b[0m\n\u001b[0;32m-> 1891\u001b[0;31m         \u001b[0mself\u001b[0m\u001b[0;34m.\u001b[0m\u001b[0m_reader\u001b[0m \u001b[0;34m=\u001b[0m \u001b[0mparsers\u001b[0m\u001b[0;34m.\u001b[0m\u001b[0mTextReader\u001b[0m\u001b[0;34m(\u001b[0m\u001b[0msrc\u001b[0m\u001b[0;34m,\u001b[0m \u001b[0;34m**\u001b[0m\u001b[0mkwds\u001b[0m\u001b[0;34m)\u001b[0m\u001b[0;34m\u001b[0m\u001b[0;34m\u001b[0m\u001b[0m\n\u001b[0m\u001b[1;32m   1892\u001b[0m         \u001b[0mself\u001b[0m\u001b[0;34m.\u001b[0m\u001b[0munnamed_cols\u001b[0m \u001b[0;34m=\u001b[0m \u001b[0mself\u001b[0m\u001b[0;34m.\u001b[0m\u001b[0m_reader\u001b[0m\u001b[0;34m.\u001b[0m\u001b[0munnamed_cols\u001b[0m\u001b[0;34m\u001b[0m\u001b[0;34m\u001b[0m\u001b[0m\n\u001b[1;32m   1893\u001b[0m \u001b[0;34m\u001b[0m\u001b[0m\n",
      "\u001b[0;32mpandas/_libs/parsers.pyx\u001b[0m in \u001b[0;36mpandas._libs.parsers.TextReader.__cinit__\u001b[0;34m()\u001b[0m\n",
      "\u001b[0;32mpandas/_libs/parsers.pyx\u001b[0m in \u001b[0;36mpandas._libs.parsers.TextReader._setup_parser_source\u001b[0;34m()\u001b[0m\n",
      "\u001b[0;31mFileNotFoundError\u001b[0m: [Errno 2] File notime_df.csv does not exist: 'notime_df.csv'"
     ]
    }
   ],
   "source": [
    "knn = KNeighborsClassifier()\n",
    "forest = RandomForestClassifier()\n",
    "boost = XGBClassifier()\n",
    "\n",
    "# K Nearest Neighbors\n",
    "data_knn = Fire(df)\n",
    "data_knn.split()\n",
    "data_knn.predict(knn)\n",
    "data_knn.get_rates()\n",
    "'''\n",
    "data_knn.cm()\n",
    "plt.title('K Nearest Neighbors Confusion Matrix')\n",
    "plt.grid(False)\n",
    "plt.savefig('knn_cm.jpeg')\n",
    "plt.show()\n",
    "'''\n",
    "df = pd.read_csv('no_time.csv')\n",
    "\n",
    "# Random Forest\n",
    "data_forest = Fire(df)\n",
    "data_forest.split()\n",
    "data_forest.predict(forest)\n",
    "data_forest.get_rates()\n",
    "'''\n",
    "data_forest.cm()\n",
    "plt.title('Random Forest Confusion Matrix')\n",
    "plt.grid(False)\n",
    "plt.savefig('forest_cm.jpeg')\n",
    "plt.show()\n",
    "'''\n",
    "df = pd.read_csv('no_time.csv')\n",
    "\n",
    "# XGBoost\n",
    "data_boost = Fire(df)\n",
    "data_boost.split()\n",
    "data_boost.predict(boost)\n",
    "data_boost.get_rates()\n",
    "'''\n",
    "data_boost.cm()\n",
    "plt.title('XGBoost Confusion Matrix')\n",
    "plt.grid(False)\n",
    "plt.savefig('boost_cm.jpeg')\n",
    "plt.show()\n",
    "\n",
    "# Feature Importances\n",
    "data_boost.plot_importance()\n",
    "plt.savefig('feature_importances.jpeg')\n",
    "plt.show()\n",
    "'''\n",
    "# ROC CURVE\n",
    "fig, ax = plt.subplots(figsize=(10,10))\n",
    "data_knn.plot_roc(ax, model='knn')\n",
    "data_forest.plot_roc(ax, model='forest')\n",
    "data_boost.plot_roc(ax, model='boost')\n",
    "ax.set_title('ROC Curves')\n",
    "ax.plot([0,1], [0,1], color ='k', linestyle='--')\n",
    "ax.set_xlim([0.0, 1.0])\n",
    "ax.set_ylim([0.0, 1.05])\n",
    "ax.set_xlabel('False Positive Rate')\n",
    "ax.set_ylabel('True Positive Rate')\n",
    "ax.legend(loc=\"lower right\")\n",
    "plt.savefig('../images/mb_forest_roc_curves_first_NEW.jpeg')\n",
    "fig.show()\n",
    "\n",
    "'''\n",
    "# Compare to results on previous dataset\n",
    "fig, ax = plt.subplots(figsize=(10,10))\n",
    "data_boost.plot_roc(ax, model='boost1')\n",
    "data_boost2.plot_roc(ax, model='boost2')\n",
    "ax.set_title('ROC Curves')\n",
    "ax.plot([0,1], [0,1], color ='k', linestyle='--')\n",
    "ax.set_xlim([0.0, 1.0])\n",
    "ax.set_ylim([0.0, 1.05])\n",
    "ax.set_xlabel('False Positive Rate')\n",
    "ax.set_ylabel('True Positive Rate')\n",
    "ax.legend(loc=\"lower right\")\n",
    "plt.savefig('boost_comparison_roc.jpeg')\n",
    "fig.show()\n",
    "\n",
    "# Feature Importances\n",
    "data_boost.plot_importance()\n",
    "plt.savefig('feature_importances.jpeg')\n",
    "plt.show()\n",
    "'''"
   ]
  },
  {
   "cell_type": "code",
   "execution_count": null,
   "metadata": {
    "colab": {
     "base_uri": "https://localhost:8080/",
     "height": 277
    },
    "colab_type": "code",
    "id": "2Yy-aMs1-6t7",
    "outputId": "911df24a-2a17-41cf-ec4a-28335aa56fd7"
   },
   "outputs": [
    {
     "data": {
      "image/png": "[encoded data removed]",
      "text/plain": [
       "<Figure size 432x288 with 1 Axes>"
      ]
     },
     "metadata": {
      "tags": []
     },
     "output_type": "display_data"
    }
   ],
   "source": [
    "feature_important = boost.get_booster().get_score(importance_type='gain')\n",
    "keys = list(feature_important.keys())\n",
    "values = list(feature_important.values())\n",
    "\n",
    "data = pd.DataFrame(data=values, index=keys, columns=[\"gain\"]).sort_values(by =\"gain\", ascending=True)\n",
    "data.plot(kind='barh', color='r')\n",
    "plt.title('XGBoost Feature Importance')\n",
    "plt.show()"
   ]
  },
  {
   "cell_type": "code",
   "execution_count": null,
   "metadata": {
    "colab": {},
    "colab_type": "code",
    "id": "oy8bsXn_tarv"
   },
   "outputs": [],
   "source": []
  },
  {
   "cell_type": "code",
   "execution_count": null,
   "metadata": {
    "colab": {},
    "colab_type": "code",
    "id": "6xKkYjDqtauh"
   },
   "outputs": [],
   "source": []
  },
  {
   "cell_type": "code",
   "execution_count": null,
   "metadata": {},
   "outputs": [],
   "source": []
  },
  {
   "cell_type": "code",
   "execution_count": null,
   "metadata": {},
   "outputs": [],
   "source": []
  },
  {
   "cell_type": "markdown",
   "metadata": {
    "colab_type": "text",
    "id": "STXGYDgtmxtO"
   },
   "source": [
    "# Grid Search XGBoost\n"
   ]
  },
  {
   "cell_type": "code",
   "execution_count": null,
   "metadata": {
    "colab": {},
    "colab_type": "code",
    "id": "SsnrxzmWHeIv"
   },
   "outputs": [],
   "source": [
    "# Grid Search XGBoost\n",
    "# Ran in EC2 instance\n",
    "'''\n",
    "parameter_grid = {\n",
    "                    'max_depth': [3, 9],\n",
    "                    'n_estimators': [100, 900], \n",
    "                    'learning_rate': [0.01, 0.1],\n",
    "                    'lambda': [0.5, 0.8], # l2 regualrization\n",
    "                    'alpha': [0.25, 0.5]  # l1 regularization\n",
    "                    }\n",
    "clf = GridSearchCV(xgb.XGBClassifier(), parameter_grid, verbose= 1, scoring='recall', n_jobs=-1)\n",
    "'''"
   ]
  },
  {
   "cell_type": "code",
   "execution_count": 42,
   "metadata": {
    "colab": {},
    "colab_type": "code",
    "id": "y4jQWSuEtaxr"
   },
   "outputs": [],
   "source": [
    "df = pd.read_csv('../data/no_time.csv')"
   ]
  },
  {
   "cell_type": "code",
   "execution_count": 43,
   "metadata": {},
   "outputs": [],
   "source": [
    "y = df.pop('Target')"
   ]
  },
  {
   "cell_type": "markdown",
   "metadata": {},
   "source": [
    "# Weight the imbalanced dataset"
   ]
  },
  {
   "cell_type": "code",
   "execution_count": 47,
   "metadata": {},
   "outputs": [
    {
     "name": "stdout",
     "output_type": "stream",
     "text": [
      "Estimate: 24.262\n"
     ]
    }
   ],
   "source": [
    "from collections import Counter\n",
    "counter = Counter(y)\n",
    "# estimate scale_pos_weight value\n",
    "estimate = counter[0] / counter[1]\n",
    "print('Estimate: %.3f' % estimate)"
   ]
  },
  {
   "cell_type": "markdown",
   "metadata": {},
   "source": [
    "## Compare weighted estimates and default XGBoost with Hypertuned XGBoost"
   ]
  },
  {
   "cell_type": "code",
   "execution_count": 48,
   "metadata": {
    "colab": {},
    "colab_type": "code",
    "id": "tO75Z2rslz0Z"
   },
   "outputs": [],
   "source": [
    "params = {'max_depth': 10,\n",
    "          'min_child_weight': 6,\n",
    "          'n_estimators': 1000, \n",
    "          'learning_rate': 0.01,\n",
    "          'lambda': 0.8,\n",
    "          'alpha': 0.5}"
   ]
  },
  {
   "cell_type": "code",
   "execution_count": 50,
   "metadata": {
    "colab": {},
    "colab_type": "code",
    "id": "wRQdNZm7tZ4x"
   },
   "outputs": [],
   "source": [
    "boost1 = XGBClassifier(scale_pos_weight=estimate)\n",
    "boost2 = XGBClassifier(**params, scale_pos_weight=estimate)"
   ]
  },
  {
   "cell_type": "code",
   "execution_count": 53,
   "metadata": {
    "colab": {
     "base_uri": "https://localhost:8080/",
     "height": 291
    },
    "colab_type": "code",
    "id": "Vi3r8zdr7Yfb",
    "outputId": "d132bc41-9d76-4873-9f2b-d456182b499b"
   },
   "outputs": [
    {
     "data": {
      "image/png": "[encoded data removed]",
      "text/plain": [
       "<Figure size 432x288 with 2 Axes>"
      ]
     },
     "metadata": {},
     "output_type": "display_data"
    }
   ],
   "source": [
    "# df = pd.read_csv('../data/no_time.csv')\n",
    "\n",
    "# data_boost1 = Fire(df)\n",
    "# data_boost1.split()\n",
    "# data_boost1.predict(boost1)\n",
    "# data_boost1.get_rates()\n",
    "\n",
    "# df = pd.read_csv('../data/no_time.csv')\n",
    "\n",
    "# data_boost2 = Fire(df)\n",
    "# data_boost2.split()\n",
    "# accuracy, precision, recall, f1 = data_boost2.predict(boost2)\n",
    "# data_boost2.get_rates()\n",
    "\n",
    "data_boost2.cm()\n",
    "\n",
    "plt.title('XGBoost Confusion Matrix')\n",
    "plt.grid(False)\n",
    "#plt.savefig('boost_cm.jpeg')\n",
    "plt.show()\n"
   ]
  },
  {
   "cell_type": "code",
   "execution_count": 55,
   "metadata": {},
   "outputs": [
    {
     "name": "stdout",
     "output_type": "stream",
     "text": [
      "Accuracy: 0.95\n",
      "Precision: 0.43\n",
      "Recall: 0.77\n"
     ]
    }
   ],
   "source": [
    "nl = '\\n'\n",
    "print(f'Accuracy: {round(accuracy,2)}{nl}Precision: {round(precision,2)}{nl}Recall: {round(recall, 2)}')"
   ]
  },
  {
   "cell_type": "code",
   "execution_count": 8,
   "metadata": {},
   "outputs": [],
   "source": [
    "# Save this hypertuned boost!\n",
    "import pickle\n",
    "pickle.dump(boost2, open('xgboost_model', 'wb'))"
   ]
  },
  {
   "cell_type": "code",
   "execution_count": null,
   "metadata": {},
   "outputs": [],
   "source": [
    "# Compare to results on previous dataset\n",
    "fig, ax = plt.subplots(figsize=(10,10))\n",
    "data_boost1.plot_roc(ax, model='boost1')\n",
    "data_boost2.plot_roc(ax, model='boost2')\n",
    "ax.set_title('ROC Curves')\n",
    "ax.plot([0,1], [0,1], color ='k', linestyle='--')\n",
    "ax.set_xlim([0.0, 1.0])\n",
    "ax.set_ylim([0.0, 1.05])\n",
    "ax.set_xlabel('False Positive Rate')\n",
    "ax.set_ylabel('True Positive Rate')\n",
    "ax.legend(loc=\"lower right\")\n",
    "plt.savefig('boost_comparison_roc.jpeg')\n",
    "fig.show()\n"
   ]
  },
  {
   "cell_type": "code",
   "execution_count": 31,
   "metadata": {
    "colab": {
     "base_uri": "https://localhost:8080/",
     "height": 877
    },
    "colab_type": "code",
    "id": "XQNqz50Omo2c",
    "outputId": "3dce4a00-828f-4f02-ed9f-2e96bb057f8a"
   },
   "outputs": [
    {
     "data": {
      "image/png": "[encoded data removed]",
      "text/plain": [
       "<Figure size 432x288 with 1 Axes>"
      ]
     },
     "metadata": {},
     "output_type": "display_data"
    }
   ],
   "source": [
    "# Feature Importances\n",
    "feature_important = boost2.get_booster().get_score(importance_type='gain')\n",
    "keys = list(feature_important.keys())\n",
    "values = list(feature_important.values())\n",
    "\n",
    "data = pd.DataFrame(data=values, index=keys, columns=[\"gain\"]).sort_values(by =\"gain\", ascending=True)\n",
    "data.plot(kind='barh', color='purple')\n",
    "plt.title('XGBoost Feature Importance')\n",
    "plt.show()"
   ]
  },
  {
   "cell_type": "code",
   "execution_count": null,
   "metadata": {},
   "outputs": [],
   "source": []
  },
  {
   "cell_type": "markdown",
   "metadata": {},
   "source": [
    "# Some EDA"
   ]
  },
  {
   "cell_type": "code",
   "execution_count": 6,
   "metadata": {},
   "outputs": [],
   "source": [
    "from sklearn.inspection import plot_partial_dependence"
   ]
  },
  {
   "cell_type": "code",
   "execution_count": 11,
   "metadata": {},
   "outputs": [],
   "source": [
    "y = df.pop('Target')"
   ]
  },
  {
   "cell_type": "code",
   "execution_count": 10,
   "metadata": {},
   "outputs": [],
   "source": [
    "boost = pickle.load(open(\"../models/xgboost_model\", \"rb\"))"
   ]
  },
  {
   "cell_type": "code",
   "execution_count": 13,
   "metadata": {},
   "outputs": [],
   "source": [
    "X_train, X_test, y_train, y_test = train_test_split(df, y, test_size=0.2, stratify=y)"
   ]
  },
  {
   "cell_type": "code",
   "execution_count": 23,
   "metadata": {},
   "outputs": [],
   "source": [
    "features = ['Avg Soil Temp (F)', 'Sol Rad (Ly/day)', ('Avg Soil Temp (F)', 'Sol Rad (Ly/day)')]"
   ]
  },
  {
   "cell_type": "code",
   "execution_count": 24,
   "metadata": {},
   "outputs": [
    {
     "data": {
      "image/png": "[encoded data removed]",
      "text/plain": [
       "<Figure size 432x288 with 4 Axes>"
      ]
     },
     "metadata": {},
     "output_type": "display_data"
    }
   ],
   "source": [
    "plot_partial_dependence(boost, X_train, features, n_jobs=3, grid_resolution=20)\n",
    "fig = plt.gcf()\n",
    "fig.suptitle('Partial dependence of fire risk\\n'\n",
    "             'for California, with Gradient Boosting')\n",
    "fig.subplots_adjust(wspace=0.4, hspace=0.3)"
   ]
  },
  {
   "cell_type": "code",
   "execution_count": null,
   "metadata": {},
   "outputs": [],
   "source": []
  }
 ],
 "metadata": {
  "colab": {
   "collapsed_sections": [],
   "name": "modeling_wout_time.ipynb",
   "provenance": []
  },
  "kernelspec": {
   "display_name": "Python 3",
   "language": "python",
   "name": "python3"
  },
  "language_info": {
   "codemirror_mode": {
    "name": "ipython",
    "version": 3
   },
   "file_extension": ".py",
   "mimetype": "text/x-python",
   "name": "python",
   "nbconvert_exporter": "python",
   "pygments_lexer": "ipython3",
   "version": "3.8.3"
  }
 },
 "nbformat": 4,
 "nbformat_minor": 1
}
